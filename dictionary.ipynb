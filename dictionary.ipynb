{
 "cells": [
  {
   "cell_type": "code",
   "execution_count": 1,
   "id": "811f7107",
   "metadata": {},
   "outputs": [
    {
     "name": "stdout",
     "output_type": "stream",
     "text": [
      "{'name': 'Muhsina', 'age': 20, 'place': 'Vadakara'}\n"
     ]
    }
   ],
   "source": [
    "# Create a dictionary with 3 key-value pairs and print it.\n",
    "\n",
    "dictionary = {'name':'Muhsina','age': 20,'place':'Vadakara'}\n",
    "print(dictionary)"
   ]
  },
  {
   "cell_type": "code",
   "execution_count": 2,
   "id": "397e64c5",
   "metadata": {},
   "outputs": [
    {
     "name": "stdout",
     "output_type": "stream",
     "text": [
      "Muhsina\n"
     ]
    }
   ],
   "source": [
    "#  access the value of a given key in a dictionary.\n",
    "\n",
    "dictionary = {'name':'Muhsina','age': 20,'place':'Vadakara'}\n",
    "my_dict = dictionary['name']\n",
    "print(my_dict)"
   ]
  },
  {
   "cell_type": "code",
   "execution_count": 4,
   "id": "094c987a",
   "metadata": {},
   "outputs": [
    {
     "name": "stdout",
     "output_type": "stream",
     "text": [
      "{'name': 'Muhsina', 'age': 20, 'place': 'Vadakara', 'state': 'Kerala'}\n"
     ]
    }
   ],
   "source": [
    "# Add a new key-value pair to an existing dictionary\n",
    "\n",
    "dictionary = {'name':'Muhsina','age': 20,'place':'Vadakara'}\n",
    "dictionary ['state'] = 'Kerala'\n",
    "print(dictionary)"
   ]
  },
  {
   "cell_type": "code",
   "execution_count": 5,
   "id": "f0ed440b",
   "metadata": {},
   "outputs": [
    {
     "name": "stdout",
     "output_type": "stream",
     "text": [
      "{'name': 'Muhsina', 'age': 20, 'place': 'Vallikkad'}\n"
     ]
    }
   ],
   "source": [
    "# Update the value of a specific key in a dictionary\n",
    "\n",
    "dictionary = {'name':'Muhsina','age': 20,'place':'Vadakara'}\n",
    "dictionary ['place'] = 'Vallikkad'\n",
    "print(dictionary)"
   ]
  },
  {
   "cell_type": "code",
   "execution_count": 6,
   "id": "f889f6aa",
   "metadata": {},
   "outputs": [
    {
     "name": "stdout",
     "output_type": "stream",
     "text": [
      "{'name': 'Muhsina', 'age': 20}\n"
     ]
    }
   ],
   "source": [
    "# Delete a key-value pair from a dictionary using del\n",
    "\n",
    "dictionary = {'name':'Muhsina','age': 20,'place':'Vadakara'}\n",
    "del dictionary ['place']\n",
    "print(dictionary)"
   ]
  },
  {
   "cell_type": "code",
   "execution_count": null,
   "id": "ba1b0288",
   "metadata": {},
   "outputs": [
    {
     "name": "stdout",
     "output_type": "stream",
     "text": [
      "Yes\n"
     ]
    }
   ],
   "source": [
    "# Check if a key exists in a dictionary\n",
    "\n",
    "dictionary = {'name':'Muhsina','age': 20,'place':'Vadakara'}\n",
    "if 'place' in dictionary :\n",
    "    print(\"Yes\")\n",
    "else:\n",
    "    print(\"No\")"
   ]
  },
  {
   "cell_type": "code",
   "execution_count": 8,
   "id": "355e5fdf",
   "metadata": {},
   "outputs": [
    {
     "name": "stdout",
     "output_type": "stream",
     "text": [
      "name\n",
      "age\n",
      "place\n"
     ]
    }
   ],
   "source": [
    "# Print all keys of a dictionary using a loop\n",
    "\n",
    "dictionary = {'name':'Muhsina','age': 20,'place':'Vadakara'}\n",
    "for i in dictionary:\n",
    "    print(i)"
   ]
  },
  {
   "cell_type": "code",
   "execution_count": 12,
   "id": "72cd0857",
   "metadata": {},
   "outputs": [
    {
     "name": "stdout",
     "output_type": "stream",
     "text": [
      "Muhsina\n",
      "20\n",
      "Vadakara\n"
     ]
    }
   ],
   "source": [
    "# Print all values of a dictionary using a loop\n",
    "\n",
    "dictionary = {'name':'Muhsina','age': 20,'place':'Vadakara'}\n",
    "for i in dictionary.values():\n",
    "    print(i)"
   ]
  },
  {
   "cell_type": "code",
   "execution_count": 13,
   "id": "cc6d1806",
   "metadata": {},
   "outputs": [
    {
     "data": {
      "text/plain": [
       "3"
      ]
     },
     "execution_count": 13,
     "metadata": {},
     "output_type": "execute_result"
    }
   ],
   "source": [
    "# find the length of a dictionary\n",
    "\n",
    "dictionary = {'name':'Muhsina','age': 20,'place':'Vadakara'}\n",
    "len(dictionary)"
   ]
  },
  {
   "cell_type": "code",
   "execution_count": 15,
   "id": "88c60950",
   "metadata": {},
   "outputs": [
    {
     "name": "stdout",
     "output_type": "stream",
     "text": [
      "{}\n"
     ]
    }
   ],
   "source": [
    "# Clear all elements from a dictionary\n",
    "\n",
    "dictionary = {'name':'Muhsina','age': 20,'place':'Vadakara'}\n",
    "dictionary.clear()\n",
    "print(dictionary)"
   ]
  }
 ],
 "metadata": {
  "kernelspec": {
   "display_name": "Python 3",
   "language": "python",
   "name": "python3"
  },
  "language_info": {
   "codemirror_mode": {
    "name": "ipython",
    "version": 3
   },
   "file_extension": ".py",
   "mimetype": "text/x-python",
   "name": "python",
   "nbconvert_exporter": "python",
   "pygments_lexer": "ipython3",
   "version": "3.13.5"
  }
 },
 "nbformat": 4,
 "nbformat_minor": 5
}
