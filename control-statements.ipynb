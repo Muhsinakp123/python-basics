{
 "cells": [
  {
   "cell_type": "code",
   "execution_count": null,
   "id": "0c6f52a3",
   "metadata": {},
   "outputs": [
    {
     "name": "stdout",
     "output_type": "stream",
     "text": [
      "0\n",
      "1\n",
      "2\n",
      "3\n",
      "4\n",
      "5\n",
      "6\n",
      "7\n",
      "8\n",
      "9\n",
      "10\n"
     ]
    }
   ],
   "source": [
    "# FOR LOOP\n",
    "\n",
    "# print numbers from 1 to 10 \n",
    "\n",
    "for i in range ( 0, 11 ):\n",
    "    print(i)"
   ]
  },
  {
   "cell_type": "code",
   "execution_count": 15,
   "id": "c1c54529",
   "metadata": {},
   "outputs": [
    {
     "name": "stdout",
     "output_type": "stream",
     "text": [
      "1 x 2 = 2\n",
      "2 x 2 = 4\n",
      "3 x 2 = 6\n",
      "4 x 2 = 8\n",
      "5 x 2 = 10\n",
      "6 x 2 = 12\n",
      "7 x 2 = 14\n",
      "8 x 2 = 16\n",
      "9 x 2 = 18\n",
      "10 x 2 = 20\n"
     ]
    }
   ],
   "source": [
    "# print the multiplication table of a given number\n",
    "\n",
    "num = int(input(\"Enter a Number\"))\n",
    "for i in range(1,11):\n",
    "    print(f\"{i} x {num} = {num * i}\")"
   ]
  },
  {
   "cell_type": "code",
   "execution_count": 17,
   "id": "ceae6c99",
   "metadata": {},
   "outputs": [
    {
     "name": "stdout",
     "output_type": "stream",
     "text": [
      "2\n",
      "4\n",
      "6\n",
      "8\n",
      "10\n",
      "12\n",
      "14\n",
      "16\n",
      "18\n",
      "20\n",
      "22\n",
      "24\n",
      "26\n",
      "28\n",
      "30\n",
      "32\n",
      "34\n",
      "36\n",
      "38\n",
      "40\n",
      "42\n",
      "44\n",
      "46\n",
      "48\n",
      "50\n"
     ]
    }
   ],
   "source": [
    "# print all even numbers from 1 to 50\n",
    "\n",
    "for i in range (1,51):\n",
    "    if (i % 2 == 0):\n",
    "        print (i)"
   ]
  },
  {
   "cell_type": "code",
   "execution_count": 28,
   "id": "dc57a445",
   "metadata": {},
   "outputs": [
    {
     "name": "stdout",
     "output_type": "stream",
     "text": [
      "sum = 5050\n"
     ]
    }
   ],
   "source": [
    "# calculate the sum of numbers from 1 to 100 \n",
    "\n",
    "total = 0\n",
    "for i in range (1,101):\n",
    "    total += i\n",
    "print('sum =',total)\n"
   ]
  },
  {
   "cell_type": "code",
   "execution_count": 34,
   "id": "c5e756ff",
   "metadata": {},
   "outputs": [
    {
     "name": "stdout",
     "output_type": "stream",
     "text": [
      "1\n",
      "4\n",
      "9\n",
      "16\n",
      "25\n",
      "36\n",
      "49\n",
      "64\n",
      "81\n",
      "100\n"
     ]
    }
   ],
   "source": [
    "# print the square of numbers from 1 to 10\n",
    "\n",
    "for i in range (1,11):\n",
    "    square = i*i\n",
    "    print(square)"
   ]
  },
  {
   "cell_type": "code",
   "execution_count": 13,
   "id": "540c6e5a",
   "metadata": {},
   "outputs": [
    {
     "name": "stdout",
     "output_type": "stream",
     "text": [
      "10\n",
      "9\n",
      "8\n",
      "7\n",
      "6\n",
      "5\n",
      "4\n",
      "3\n",
      "2\n",
      "1\n"
     ]
    }
   ],
   "source": [
    "# WHILE LOOP\n",
    "\n",
    "# print numbers from 10 down to 1\n",
    "\n",
    "i = 10\n",
    "while i >= 1 :\n",
    "    print (i)\n",
    "    i -= 1"
   ]
  },
  {
   "cell_type": "code",
   "execution_count": 30,
   "id": "c0d1174d",
   "metadata": {},
   "outputs": [
    {
     "name": "stdout",
     "output_type": "stream",
     "text": [
      "The factorial of 5 is 120\n"
     ]
    }
   ],
   "source": [
    "# calculate the factorial of a given number\n",
    "\n",
    "num = int(input(\"Enter a Number\"))\n",
    "org = num\n",
    "fact = 1\n",
    "while num >= 1 :\n",
    "    fact *= num\n",
    "    num -= 1\n",
    "print (\"The factorial of\",org, \"is\",fact)"
   ]
  },
  {
   "cell_type": "code",
   "execution_count": 44,
   "id": "77bad30c",
   "metadata": {},
   "outputs": [
    {
     "name": "stdout",
     "output_type": "stream",
     "text": [
      "1\n",
      "2\n",
      "3\n",
      "4\n",
      "5\n",
      "6\n",
      "7\n",
      "8\n",
      "9\n",
      "10\n"
     ]
    }
   ],
   "source": [
    "# print the first 10 natural numbers\n",
    "\n",
    "i = 1\n",
    "while i <= 10:\n",
    "    print(i)\n",
    "    i += 1\n"
   ]
  },
  {
   "cell_type": "code",
   "execution_count": 50,
   "id": "d5c07f8f",
   "metadata": {},
   "outputs": [
    {
     "name": "stdout",
     "output_type": "stream",
     "text": [
      "4321\n"
     ]
    }
   ],
   "source": [
    "# reverse a given number\n",
    "\n",
    "num = int(input('Enter a Number'))\n",
    "rev = 0\n",
    "while num > 0 :\n",
    "    digit = num % 10\n",
    "    rev = rev * 10 + digit\n",
    "    num //= 10\n",
    "print(rev)"
   ]
  },
  {
   "cell_type": "code",
   "execution_count": 52,
   "id": "6d136489",
   "metadata": {},
   "outputs": [
    {
     "name": "stdout",
     "output_type": "stream",
     "text": [
      "18\n"
     ]
    }
   ],
   "source": [
    "# find the sum of digits of a given number \n",
    "\n",
    "num = int(input('Enter a Number'))\n",
    "sum = 0\n",
    "while num > 0 :\n",
    "    digit = num % 10\n",
    "    sum = sum + digit\n",
    "    num //= 10\n",
    "print(sum)\n"
   ]
  },
  {
   "cell_type": "code",
   "execution_count": 63,
   "id": "f84fa380",
   "metadata": {},
   "outputs": [
    {
     "name": "stdout",
     "output_type": "stream",
     "text": [
      "*\n",
      "**\n",
      "***\n",
      "****\n",
      "*****\n"
     ]
    }
   ],
   "source": [
    "# NESTED FOR LOOP\n",
    "\n",
    "# print a right-angled triangle pattern of * with 5 rows\n",
    "\n",
    "n = 5\n",
    "for i in range (1,n + 1):\n",
    "    for j in range (1, i+1):\n",
    "        print('*',end='')\n",
    "    print() "
   ]
  },
  {
   "cell_type": "code",
   "execution_count": null,
   "id": "95199f9a",
   "metadata": {},
   "outputs": [
    {
     "name": "stdout",
     "output_type": "stream",
     "text": [
      "\n",
      "Mulplication Table of  1\n",
      "1 x 1 = 1\n",
      "1 x 2 = 2\n",
      "1 x 3 = 3\n",
      "1 x 4 = 4\n",
      "1 x 5 = 5\n",
      "1 x 6 = 6\n",
      "1 x 7 = 7\n",
      "1 x 8 = 8\n",
      "1 x 9 = 9\n",
      "1 x 10 = 10\n",
      "\n",
      "Mulplication Table of  2\n",
      "2 x 1 = 2\n",
      "2 x 2 = 4\n",
      "2 x 3 = 6\n",
      "2 x 4 = 8\n",
      "2 x 5 = 10\n",
      "2 x 6 = 12\n",
      "2 x 7 = 14\n",
      "2 x 8 = 16\n",
      "2 x 9 = 18\n",
      "2 x 10 = 20\n",
      "\n",
      "Mulplication Table of  3\n",
      "3 x 1 = 3\n",
      "3 x 2 = 6\n",
      "3 x 3 = 9\n",
      "3 x 4 = 12\n",
      "3 x 5 = 15\n",
      "3 x 6 = 18\n",
      "3 x 7 = 21\n",
      "3 x 8 = 24\n",
      "3 x 9 = 27\n",
      "3 x 10 = 30\n",
      "\n",
      "Mulplication Table of  4\n",
      "4 x 1 = 4\n",
      "4 x 2 = 8\n",
      "4 x 3 = 12\n",
      "4 x 4 = 16\n",
      "4 x 5 = 20\n",
      "4 x 6 = 24\n",
      "4 x 7 = 28\n",
      "4 x 8 = 32\n",
      "4 x 9 = 36\n",
      "4 x 10 = 40\n",
      "\n",
      "Mulplication Table of  5\n",
      "5 x 1 = 5\n",
      "5 x 2 = 10\n",
      "5 x 3 = 15\n",
      "5 x 4 = 20\n",
      "5 x 5 = 25\n",
      "5 x 6 = 30\n",
      "5 x 7 = 35\n",
      "5 x 8 = 40\n",
      "5 x 9 = 45\n",
      "5 x 10 = 50\n"
     ]
    }
   ],
   "source": [
    "# print a multiplication table from 1 to 5\n",
    "\n",
    "for i in range(1,6):\n",
    "    print(f\"\\nMulplication Table of \",i)\n",
    "    for j in range (1,11):\n",
    "         print(f\"{i} x {j} = {i*j}\")\n",
    "    "
   ]
  },
  {
   "cell_type": "code",
   "execution_count": 78,
   "id": "de7440d9",
   "metadata": {},
   "outputs": [
    {
     "name": "stdout",
     "output_type": "stream",
     "text": [
      "12345\n",
      "12345\n",
      "12345\n",
      "12345\n",
      "12345\n"
     ]
    }
   ],
   "source": [
    "# print a square pattern of numbers (1 to 5)\n",
    "\n",
    "for i in range (1,6):\n",
    "    for j in range (1,6):\n",
    "        print(j,end='')\n",
    "    print() "
   ]
  },
  {
   "cell_type": "code",
   "execution_count": 124,
   "id": "9a931e1d",
   "metadata": {},
   "outputs": [
    {
     "name": "stdout",
     "output_type": "stream",
     "text": [
      "     * \n",
      "    * * \n",
      "   * * * \n",
      "  * * * * \n",
      " * * * * * \n",
      "* * * * * * \n"
     ]
    }
   ],
   "source": [
    "# print a pyramid pattern of *\n",
    "\n",
    "n = int(input(\"Enter the Number of Star\"))\n",
    "for i in range (1,n + 1):\n",
    "    for k in range (n-i):\n",
    "        print(end=' ')\n",
    "    for j in range (1, i+1):\n",
    "        print('*',end=' ')\n",
    "    print() "
   ]
  },
  {
   "cell_type": "code",
   "execution_count": 97,
   "id": "3aedb216",
   "metadata": {},
   "outputs": [
    {
     "name": "stdout",
     "output_type": "stream",
     "text": [
      "1\n",
      "12\n",
      "123\n",
      "1234\n",
      "12345\n"
     ]
    }
   ],
   "source": [
    "#  print numbers in triangular form\n",
    "\n",
    "n = 5\n",
    "for i in range (1,n + 1):\n",
    "    for j in range (1, i+1):\n",
    "        print(j,end='')\n",
    "    print() "
   ]
  },
  {
   "cell_type": "code",
   "execution_count": 125,
   "id": "627d6a81",
   "metadata": {},
   "outputs": [
    {
     "name": "stdout",
     "output_type": "stream",
     "text": [
      "1\n",
      "2\n",
      "3\n",
      "4\n"
     ]
    }
   ],
   "source": [
    "# BREAK STATEMENT\n",
    "\n",
    "# print numbers from 1 to 10, but stop if the number is 5\n",
    "\n",
    "for i in range (1,11):\n",
    "    if (i == 5 ):\n",
    "        break\n",
    "    print(i)\n",
    "    "
   ]
  },
  {
   "cell_type": "code",
   "execution_count": 135,
   "id": "bf308137",
   "metadata": {},
   "outputs": [
    {
     "name": "stdout",
     "output_type": "stream",
     "text": [
      "2 Not Found\n"
     ]
    }
   ],
   "source": [
    "# search for a given digit in a number; stop when found\n",
    "\n",
    "num = int(input(\"Enter a Number\"))\n",
    "digit = int(input(\"Enter a Digit Number\"))\n",
    "found = False\n",
    "while num > 0:\n",
    "    last_digit = num % 10\n",
    "    if (last_digit == digit):\n",
    "        found = True\n",
    "        break\n",
    "    num //= 10\n",
    "if found:\n",
    "   print(digit,\"Found\")\n",
    "else:\n",
    "    print(digit,\"Not Found\")\n",
    "    "
   ]
  },
  {
   "cell_type": "code",
   "execution_count": null,
   "id": "073222f8",
   "metadata": {},
   "outputs": [
    {
     "name": "stdout",
     "output_type": "stream",
     "text": [
      "a is in the String\n"
     ]
    }
   ],
   "source": [
    "# read characters from a string and stop when a is found\n",
    "\n",
    "string = (input(\"Enter a String\"))\n",
    "found = False\n",
    "for i in string :\n",
    "    if (i == 'a'):\n",
    "        found = True\n",
    "        print(\"a is in the String\")\n",
    "        break\n",
    "if not found :\n",
    "    print(\"Not Found\")"
   ]
  },
  {
   "cell_type": "code",
   "execution_count": null,
   "id": "25a80541",
   "metadata": {},
   "outputs": [
    {
     "name": "stdout",
     "output_type": "stream",
     "text": [
      "7\n",
      "14\n",
      "21\n",
      "28\n",
      "35\n",
      "42\n",
      "49\n"
     ]
    }
   ],
   "source": [
    "# multiplication table of 7 but stop when the result exceeds 50\n",
    "\n",
    "for i in range (1,11):\n",
    "    if (i * 7 > 50):\n",
    "        break\n",
    "    print(i * 7)"
   ]
  },
  {
   "cell_type": "code",
   "execution_count": 11,
   "id": "443bf722",
   "metadata": {},
   "outputs": [
    {
     "name": "stdout",
     "output_type": "stream",
     "text": [
      "17\n"
     ]
    }
   ],
   "source": [
    "# find the first divisor of a number (greater than 1)\n",
    "num = int(input(\"Enter a NUmber\"))\n",
    "for divisor in range (2, num + 1):\n",
    "    if (num % divisor == 0):\n",
    "        print(divisor)\n",
    "        break \n",
    "    "
   ]
  },
  {
   "cell_type": "code",
   "execution_count": 13,
   "id": "e3fe6c3c",
   "metadata": {},
   "outputs": [
    {
     "name": "stdout",
     "output_type": "stream",
     "text": [
      "1\n",
      "2\n",
      "3\n",
      "4\n",
      "6\n",
      "7\n",
      "8\n",
      "9\n",
      "10\n"
     ]
    }
   ],
   "source": [
    "# CONTINUE STATEMENT\n",
    "\n",
    "#print numbers from 1 to 10 but skip 5\n",
    "\n",
    "for i in range (1,11):\n",
    "    if (i == 5):\n",
    "        continue\n",
    "    print(i)"
   ]
  },
  {
   "cell_type": "code",
   "execution_count": 14,
   "id": "ecea908c",
   "metadata": {},
   "outputs": [
    {
     "name": "stdout",
     "output_type": "stream",
     "text": [
      "1\n",
      "3\n",
      "5\n",
      "7\n",
      "9\n",
      "11\n",
      "13\n",
      "15\n",
      "17\n",
      "19\n"
     ]
    }
   ],
   "source": [
    "# print all numbers from 1 to 20 except even numbers\n",
    "\n",
    "for i in range (1,21):\n",
    "    if (i % 2 == 0):\n",
    "        continue\n",
    "    print(i)"
   ]
  },
  {
   "cell_type": "code",
   "execution_count": 28,
   "id": "c0832e33",
   "metadata": {},
   "outputs": [
    {
     "name": "stdout",
     "output_type": "stream",
     "text": [
      "m\n",
      "h\n",
      "s\n",
      "n\n"
     ]
    }
   ],
   "source": [
    "# print characters in a string except for vowels\n",
    "\n",
    "text = input(\"Enter a String\").lower()\n",
    "for i in text :\n",
    "    if i in ['a','e','i','o','u']:\n",
    "        continue\n",
    "    print(i)"
   ]
  },
  {
   "cell_type": "code",
   "execution_count": 18,
   "id": "8f1ae387",
   "metadata": {},
   "outputs": [
    {
     "name": "stdout",
     "output_type": "stream",
     "text": [
      "1\n",
      "10\n",
      "28\n",
      "55\n"
     ]
    }
   ],
   "source": [
    "# calculate the sum of numbers from 1 to 10, skipping multiples of 3\n",
    "\n",
    "sum = 0\n",
    "for i in range (1,11):\n",
    "    sum += i\n",
    "    if (sum % 3 == 0 ):\n",
    "        continue\n",
    "    print(sum)\n",
    "\n"
   ]
  },
  {
   "cell_type": "code",
   "execution_count": 23,
   "id": "b86dc3f3",
   "metadata": {},
   "outputs": [
    {
     "name": "stdout",
     "output_type": "stream",
     "text": [
      "6\n",
      "18\n",
      "30\n",
      "42\n",
      "54\n"
     ]
    }
   ],
   "source": [
    "# print multiplication table of 6, skipping multiples of 12\n",
    "\n",
    "for i in range (1,11):\n",
    "    result = i * 6\n",
    "    if ( result % 12 == 0):\n",
    "        continue\n",
    "    print(result)"
   ]
  }
 ],
 "metadata": {
  "kernelspec": {
   "display_name": "Python 3",
   "language": "python",
   "name": "python3"
  },
  "language_info": {
   "codemirror_mode": {
    "name": "ipython",
    "version": 3
   },
   "file_extension": ".py",
   "mimetype": "text/x-python",
   "name": "python",
   "nbconvert_exporter": "python",
   "pygments_lexer": "ipython3",
   "version": "3.13.5"
  }
 },
 "nbformat": 4,
 "nbformat_minor": 5
}
