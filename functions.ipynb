{
 "cells": [
  {
   "cell_type": "code",
   "execution_count": 3,
   "id": "f962539f",
   "metadata": {},
   "outputs": [
    {
     "data": {
      "text/plain": [
       "5"
      ]
     },
     "execution_count": 3,
     "metadata": {},
     "output_type": "execute_result"
    }
   ],
   "source": [
    "# PYTHON FUNCTION PROGRAMS\n",
    "\n",
    "# BASIC FUNCTION PROGRAMS\n",
    "\n",
    "# add two numbers and return the result\n",
    "\n",
    "def my_function (a,b):\n",
    "    return(a+b)\n",
    "my_function(3,2)"
   ]
  },
  {
   "cell_type": "code",
   "execution_count": 2,
   "id": "07961036",
   "metadata": {},
   "outputs": [
    {
     "data": {
      "text/plain": [
       "'anishuM'"
      ]
     },
     "execution_count": 2,
     "metadata": {},
     "output_type": "execute_result"
    }
   ],
   "source": [
    "# takes a string and prints it in reverse\n",
    "\n",
    "def my_function (name):\n",
    "    return name[::-1]\n",
    "my_function('Muhsina')"
   ]
  },
  {
   "cell_type": "code",
   "execution_count": 4,
   "id": "2ac5461c",
   "metadata": {},
   "outputs": [
    {
     "name": "stdout",
     "output_type": "stream",
     "text": [
      "16\n"
     ]
    }
   ],
   "source": [
    "# find the square of a number\n",
    "\n",
    "def my_function ():\n",
    "    print(a*a)\n",
    "a = int(input(\"Enter a NUmber\"))\n",
    "my_function()"
   ]
  },
  {
   "cell_type": "code",
   "execution_count": 6,
   "id": "826e635c",
   "metadata": {},
   "outputs": [
    {
     "name": "stdout",
     "output_type": "stream",
     "text": [
      "Number is Even\n"
     ]
    }
   ],
   "source": [
    "# check if a number is even or odd\n",
    "\n",
    "def my_function ():\n",
    "    if (a % 2 == 0):\n",
    "        print(\"Number is Even\")\n",
    "    else:\n",
    "        print(\"Number is Odd\")\n",
    "a = int(input(\"Enter a NUmber\"))\n",
    "my_function()"
   ]
  },
  {
   "cell_type": "code",
   "execution_count": 11,
   "id": "72133ee2",
   "metadata": {},
   "outputs": [
    {
     "name": "stdout",
     "output_type": "stream",
     "text": [
      "120\n"
     ]
    }
   ],
   "source": [
    "# calculate the factorial of a number\n",
    "\n",
    "def my_function (num):\n",
    "    fact = 1\n",
    "    while num >= 1 :\n",
    "        fact *= num\n",
    "        num -= 1\n",
    "    print(fact)\n",
    "num = int(input(\"Enter a NUmber\")) \n",
    "my_function(num)"
   ]
  },
  {
   "cell_type": "code",
   "execution_count": 12,
   "id": "3f94e76f",
   "metadata": {},
   "outputs": [
    {
     "name": "stdout",
     "output_type": "stream",
     "text": [
      "Muhsina\n"
     ]
    }
   ],
   "source": [
    "# FUNCTIONS WITH PARAMETERS\n",
    "\n",
    "# takes a name as input and prints \"Hello, <name>!\"\n",
    "\n",
    "def my_function (name):\n",
    "    print (name)\n",
    "my_function('Muhsina')  "
   ]
  },
  {
   "cell_type": "code",
   "execution_count": 16,
   "id": "5d202f18",
   "metadata": {},
   "outputs": [
    {
     "data": {
      "text/plain": [
       "148"
      ]
     },
     "execution_count": 16,
     "metadata": {},
     "output_type": "execute_result"
    }
   ],
   "source": [
    "# accepts a list and returns the sum of its elements\n",
    "\n",
    "def my_function (list):\n",
    "    sum = 0\n",
    "    for i in list:\n",
    "        sum += i\n",
    "    return sum\n",
    "list = [23,54,12,54,5]\n",
    "my_function(list)"
   ]
  },
  {
   "cell_type": "code",
   "execution_count": 17,
   "id": "6ba76d68",
   "metadata": {},
   "outputs": [
    {
     "name": "stdout",
     "output_type": "stream",
     "text": [
      "6 is the Greatest\n"
     ]
    }
   ],
   "source": [
    "# takes two numbers and returns the maximum\n",
    "\n",
    "def my_function (a,b):\n",
    "    if (a > b):\n",
    "        print(a,\"is the Greatest\")\n",
    "    else:\n",
    "        print(b,'is the Greatest')\n",
    "my_function(4,6)\n",
    "    "
   ]
  },
  {
   "cell_type": "code",
   "execution_count": 26,
   "id": "22a75893",
   "metadata": {},
   "outputs": [
    {
     "name": "stdout",
     "output_type": "stream",
     "text": [
      "malayalam is Palindrome\n"
     ]
    }
   ],
   "source": [
    "# check if a string is a palindrome\n",
    "\n",
    "def my_function (str):\n",
    "        if (str[::-1]== str):\n",
    "            print(str,'is Palindrome')\n",
    "        else:\n",
    "            print(str,'is Not a Palindrome')\n",
    "str =input(\"Enter a String\").lower()\n",
    "my_function(str)"
   ]
  },
  {
   "cell_type": "code",
   "execution_count": 7,
   "id": "0bff6d91",
   "metadata": {},
   "outputs": [
    {
     "name": "stdout",
     "output_type": "stream",
     "text": [
      "3 Vowels in this string\n"
     ]
    }
   ],
   "source": [
    "# count the vowels in a given string\n",
    "\n",
    "def my_function (str):\n",
    "    count = 0\n",
    "    for i in str:\n",
    "        if i in ['a','e','i','o','u']:\n",
    "            count += 1\n",
    "    if (count > 0) :\n",
    "        print(count,'Vowels in this string')\n",
    "    else:\n",
    "        print('No Vowels in this string')\n",
    "str =input(\"Enter a String\").lower()\n",
    "my_function(str)"
   ]
  }
 ],
 "metadata": {
  "kernelspec": {
   "display_name": "Python 3",
   "language": "python",
   "name": "python3"
  },
  "language_info": {
   "codemirror_mode": {
    "name": "ipython",
    "version": 3
   },
   "file_extension": ".py",
   "mimetype": "text/x-python",
   "name": "python",
   "nbconvert_exporter": "python",
   "pygments_lexer": "ipython3",
   "version": "3.13.5"
  }
 },
 "nbformat": 4,
 "nbformat_minor": 5
}
