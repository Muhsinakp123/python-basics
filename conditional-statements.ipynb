{
 "cells": [
  {
   "cell_type": "code",
   "execution_count": null,
   "id": "dce59e26",
   "metadata": {},
   "outputs": [
    {
     "name": "stdout",
     "output_type": "stream",
     "text": [
      "Number is odd\n"
     ]
    }
   ],
   "source": [
    "#check number odd or even\n",
    "\n",
    "num = int(input(\"Enter a number\"))\n",
    "if (num%2 == 0):\n",
    "    print(\"Number  is Even\")\n",
    "else:\n",
    "    print(\"Number is odd\")"
   ]
  },
  {
   "cell_type": "code",
   "execution_count": 7,
   "id": "2f694400",
   "metadata": {},
   "outputs": [
    {
     "name": "stdout",
     "output_type": "stream",
     "text": [
      "This is a Negative Number\n"
     ]
    }
   ],
   "source": [
    "# check number +ve,-ve or zero\n",
    "\n",
    "num = int(input(\"Enter a number\"))\n",
    "if (num == 0):\n",
    "    print (\"Number is zero\")\n",
    "elif (num > 0):\n",
    "    print (\"This is a Positive Number\")\n",
    "else:\n",
    "    print (\"This is a Negative Number\")"
   ]
  },
  {
   "cell_type": "code",
   "execution_count": null,
   "id": "e6f7cbcc",
   "metadata": {},
   "outputs": [
    {
     "name": "stdout",
     "output_type": "stream",
     "text": [
      "5 is the Largest\n"
     ]
    }
   ],
   "source": [
    "#Find the Largest of Two Numbers \n",
    "\n",
    "a = int(input(\"Enter a number\"))\n",
    "b = int(input(\"Enter a number\"))\n",
    "if (a > b):\n",
    "    print(a,\"is the Largest\")\n",
    "else:\n",
    "    print(b,\"is the Largest\")"
   ]
  },
  {
   "cell_type": "code",
   "execution_count": 5,
   "id": "b1fc80a1",
   "metadata": {},
   "outputs": [
    {
     "name": "stdout",
     "output_type": "stream",
     "text": [
      "3 is the Largest\n"
     ]
    }
   ],
   "source": [
    "#Find the Largest of Three Numbers \n",
    "\n",
    "a = int(input(\"Enter a number\"))\n",
    "b = int(input(\"Enter a number\"))\n",
    "c = int(input(\"Enter a number\"))\n",
    "if (a > b and a > c):\n",
    "    print(a,\"is the Largest\")\n",
    "elif (b > a and b > c):\n",
    "    print(b, \"is the Largest\")\n",
    "elif (c > a and c > b):\n",
    "    print(c,\"is the Largest\")\n",
    "else:\n",
    "    print(\"may be equal\")"
   ]
  },
  {
   "cell_type": "code",
   "execution_count": null,
   "id": "caac0143",
   "metadata": {},
   "outputs": [
    {
     "name": "stdout",
     "output_type": "stream",
     "text": [
      "Grade C\n"
     ]
    }
   ],
   "source": [
    "#Grade Calculation \n",
    "\n",
    "mark = int(input(\"Enter a number\"))\n",
    "if (mark >= 90):\n",
    "    print(\"Grade A\")\n",
    "elif (mark >= 75):\n",
    "    print(\"Grade B\")\n",
    "elif (mark >= 50):\n",
    "    print(\"Grade C\")\n",
    "else:\n",
    "    print(\"Fail\")\n"
   ]
  },
  {
   "cell_type": "code",
   "execution_count": 23,
   "id": "8e6bbdd9",
   "metadata": {},
   "outputs": [
    {
     "name": "stdout",
     "output_type": "stream",
     "text": [
      "Not a Leap Year\n"
     ]
    }
   ],
   "source": [
    "#Leap Year Check\n",
    "\n",
    "year = int(input(\"Enter a Year\"))\n",
    "if (year % 4 == 0 and year % 100 != 0) or (year % 400 == 0) :\n",
    "    print(\"it's a Leap Year\")\n",
    "else:\n",
    "    print(\"Not a Leap Year\")"
   ]
  },
  {
   "cell_type": "code",
   "execution_count": 28,
   "id": "90b1ea0c",
   "metadata": {},
   "outputs": [
    {
     "name": "stdout",
     "output_type": "stream",
     "text": [
      "You are NOT Eligible For Vote \n"
     ]
    }
   ],
   "source": [
    "#Voting Eligibility\n",
    "\n",
    "age = int(input(\"Enter your age\"))\n",
    "if (age >= 18):\n",
    "    print(\"You are Eligible For Vote\")\n",
    "else:\n",
    "    print(\"You are NOT Eligible For Vote \")"
   ]
  },
  {
   "cell_type": "code",
   "execution_count": 57,
   "id": "e5b1580d",
   "metadata": {},
   "outputs": [
    {
     "name": "stdout",
     "output_type": "stream",
     "text": [
      "It's a Consonant\n"
     ]
    }
   ],
   "source": [
    "# Check Vowel or Consonant\n",
    "\n",
    "char = input(\"Enter a character\").lower()\n",
    "if len(char) == 1:\n",
    "    if (char in ('a','e','i','o','u')):\n",
    "        print(\"It's a Vowel\")\n",
    "    elif (char.isalpha()):\n",
    "        print(\"It's a Consonant\")\n",
    "    else:\n",
    "        print(\"Not an Alphabet\")\n",
    "else:\n",
    "    print(\"Not a Single Character\")\n",
    "    "
   ]
  },
  {
   "cell_type": "code",
   "execution_count": 9,
   "id": "66acc95e",
   "metadata": {},
   "outputs": [
    {
     "name": "stdout",
     "output_type": "stream",
     "text": [
      "Error: Divided by Zero\n"
     ]
    }
   ],
   "source": [
    "# Simple Calculator\n",
    "\n",
    "a = int(input(\"Enter First number\"))\n",
    "b = int(input(\"Enter Second number\"))\n",
    "operator = input(\"Enter a operator (+,-,*,/)\")\n",
    "if (operator == '+'):\n",
    "    print(\"Result\", a + b)\n",
    "elif (operator == '-'):\n",
    "    print (\"Result\", a - b)\n",
    "elif (operator == '*'):\n",
    "    print (\"Result\", a * b)\n",
    "elif (operator == '/'):\n",
    "    if b != 0 :\n",
    "        print (\"Result\", a / b)\n",
    "    else:\n",
    "        print (\"Error: Divided by Zero\")\n",
    "else:\n",
    "    print(\"Error \")"
   ]
  },
  {
   "cell_type": "code",
   "execution_count": 1,
   "id": "d21a70fe",
   "metadata": {},
   "outputs": [
    {
     "name": "stdout",
     "output_type": "stream",
     "text": [
      "Go\n"
     ]
    }
   ],
   "source": [
    "# Traffic Light System \n",
    "\n",
    "signal = input(\"Enter the color\").capitalize()\n",
    "if (signal == \"Red\"):\n",
    "    print(\"Stop\")\n",
    "elif (signal == \"Yellow\"):\n",
    "    print(\"Get Ready\")\n",
    "elif (signal == \"Green\"):\n",
    "    print(\"Go\")\n",
    "else:\n",
    "    print(\"Type Error\")"
   ]
  }
 ],
 "metadata": {
  "kernelspec": {
   "display_name": "Python 3",
   "language": "python",
   "name": "python3"
  },
  "language_info": {
   "codemirror_mode": {
    "name": "ipython",
    "version": 3
   },
   "file_extension": ".py",
   "mimetype": "text/x-python",
   "name": "python",
   "nbconvert_exporter": "python",
   "pygments_lexer": "ipython3",
   "version": "3.13.5"
  }
 },
 "nbformat": 4,
 "nbformat_minor": 5
}
