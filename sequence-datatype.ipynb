{
 "cells": [
  {
   "cell_type": "code",
   "execution_count": null,
   "id": "bd06fd97",
   "metadata": {},
   "outputs": [
    {
     "name": "stdout",
     "output_type": "stream",
     "text": [
      "2\n",
      "56\n"
     ]
    }
   ],
   "source": [
    "# LIST\n",
    "\n",
    "# find the largest and smallest number in a list\n",
    "\n",
    "number = [2,5,9,10,34,56,2,4]\n",
    "print(min(number))\n",
    "print(max(number))"
   ]
  },
  {
   "cell_type": "code",
   "execution_count": 11,
   "id": "5914a77c",
   "metadata": {},
   "outputs": [
    {
     "name": "stdout",
     "output_type": "stream",
     "text": [
      "['banana', 'cherry', 'apple', 'kiwi']\n"
     ]
    }
   ],
   "source": [
    "# remove duplicates from a list\n",
    "\n",
    "fruits = ['apple','banana','cherry','apple','kiwi','banana']\n",
    "new_list = list(set(fruits))\n",
    "print(new_list)\n"
   ]
  },
  {
   "cell_type": "code",
   "execution_count": 21,
   "id": "f6fc3f66",
   "metadata": {},
   "outputs": [
    {
     "name": "stdout",
     "output_type": "stream",
     "text": [
      "[4, 2, 87, 55, 67, 12, 23, 56, 34]\n"
     ]
    }
   ],
   "source": [
    "#  reverse a list without using built-in functions\n",
    "\n",
    "list = [34,56,23,12,67,55,87,2,4]\n",
    "x = list [::-1]\n",
    "print(x)"
   ]
  },
  {
   "cell_type": "code",
   "execution_count": 30,
   "id": "038e6eab",
   "metadata": {},
   "outputs": [
    {
     "name": "stdout",
     "output_type": "stream",
     "text": [
      "1 occurs 1 times\n",
      "34 occurs 2 times\n",
      "3 occurs 3 times\n",
      "4 occurs 2 times\n",
      "5 occurs 2 times\n",
      "12 occurs 2 times\n",
      "77 occurs 1 times\n",
      "445 occurs 1 times\n"
     ]
    }
   ],
   "source": [
    "# count how many times each element occurs in a list\n",
    "\n",
    "numbers = [34, 3, 1, 5, 77, 5, 445, 3, 12, 4,3,4,34,12]\n",
    "for i in set(numbers):\n",
    "    print(i, \"occurs\", numbers.count(i), \"times\")\n"
   ]
  },
  {
   "cell_type": "code",
   "execution_count": 36,
   "id": "944b7f29",
   "metadata": {},
   "outputs": [
    {
     "name": "stdout",
     "output_type": "stream",
     "text": [
      "Even numbers: [2, 6, 8, 10, 34, 22, 78]\n",
      "Odd numbers: [3, 1, 9, 45, 67]\n"
     ]
    }
   ],
   "source": [
    "# separate odd and even numbers from a list\n",
    "\n",
    "numbers = [2, 3, 6, 8, 1, 9, 10, 34, 22, 45, 67, 78]\n",
    "\n",
    "even_numbers = []\n",
    "odd_numbers = []\n",
    "\n",
    "for i in numbers:\n",
    "    if i % 2 == 0:\n",
    "        even_numbers.append(i)\n",
    "    else:\n",
    "        odd_numbers.append(i)\n",
    "\n",
    "print(\"Even numbers:\", even_numbers)\n",
    "print(\"Odd numbers:\", odd_numbers)\n"
   ]
  },
  {
   "cell_type": "code",
   "execution_count": 38,
   "id": "601a208a",
   "metadata": {},
   "outputs": [
    {
     "name": "stdout",
     "output_type": "stream",
     "text": [
      "2\n",
      "56\n",
      "<class 'tuple'>\n"
     ]
    }
   ],
   "source": [
    "# TUPLE\n",
    "\n",
    "# find the maximum and minimum values in a tuple\n",
    "\n",
    "number = (2,5,9,10,34,56,2,4)\n",
    "print(min(number))\n",
    "print(max(number))\n",
    "print(type(number))"
   ]
  },
  {
   "cell_type": "code",
   "execution_count": null,
   "id": "52b918fb",
   "metadata": {},
   "outputs": [
    {
     "name": "stdout",
     "output_type": "stream",
     "text": [
      "muhsina is Found in Tuple\n"
     ]
    }
   ],
   "source": [
    "# check if a given element exists in a tuple\n",
    "\n",
    "element = input(\"Enter a Element\").lower()\n",
    "tuple = (121,343,'naila',34,576,'raniya',654,24,76,'muhsina')\n",
    "if element in [str(i) for i in tuple]:\n",
    "    print(element, \"is Found in Tuple\")\n",
    "else:\n",
    "    print(element,\"is Not Found in Tuple\")\n",
    "\n",
    "\n",
    " "
   ]
  },
  {
   "cell_type": "code",
   "execution_count": null,
   "id": "c5f2aa05",
   "metadata": {},
   "outputs": [],
   "source": [
    "# count the number of times a specific value occurs in a tuple\n",
    "\n",
    "tuple = [23,45,64,12,76,23,55,45,23,12,45]\n"
   ]
  }
 ],
 "metadata": {
  "kernelspec": {
   "display_name": "Python 3",
   "language": "python",
   "name": "python3"
  },
  "language_info": {
   "codemirror_mode": {
    "name": "ipython",
    "version": 3
   },
   "file_extension": ".py",
   "mimetype": "text/x-python",
   "name": "python",
   "nbconvert_exporter": "python",
   "pygments_lexer": "ipython3",
   "version": "3.13.5"
  }
 },
 "nbformat": 4,
 "nbformat_minor": 5
}
